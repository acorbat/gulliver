{
 "cells": [
  {
   "cell_type": "markdown",
   "metadata": {},
   "source": [
    "# Whole Pipeline\n",
    "\n",
    "Now that we have separately addressed the different modules of the pipeline, let's put them all together in a single pipe.\n",
    "\n",
    "1. Load the image;\n",
    "2. Find the liver regions;\n",
    "3. Find structures in Sox9 staining (ducts, vessels, Sox9+ cells, not well stained areas);\n",
    "4. Find portal regions.\n",
    "\n",
    "After this, we should look into generating tables with the information describing each region."
   ]
  },
  {
   "cell_type": "code",
   "execution_count": 1,
   "metadata": {},
   "outputs": [
    {
     "name": "stderr",
     "output_type": "stream",
     "text": [
      "c:\\Users\\agucor\\Anaconda3\\envs\\bile_duct_clf\\Lib\\site-packages\\paramiko\\transport.py:219: CryptographyDeprecationWarning: Blowfish has been deprecated\n",
      "  \"class\": algorithms.Blowfish,\n"
     ]
    },
    {
     "name": "stdout",
     "output_type": "stream",
     "text": [
      "NVIDIA GeForce RTX 3060 Laptop GPU\n"
     ]
    }
   ],
   "source": [
    "from pathlib import Path\n",
    "\n",
    "import pyclesperanto_prototype as cle\n",
    "\n",
    "from gulliver.io import get_image, add_labels, get_channel_from_zarr\n",
    "from gulliver.segmenter import (\n",
    "    find_structures,\n",
    "    segment_liver,\n",
    "    clean_segmentations,\n",
    "    add_veins,\n",
    ")\n",
    "\n",
    "cle.select_device(\"RTX\")\n",
    "print(cle.get_device().name)"
   ]
  },
  {
   "cell_type": "code",
   "execution_count": 2,
   "metadata": {},
   "outputs": [],
   "source": [
    "DATA_DIR = Path(\"../data/N1 B9-2 10x.czi\")\n",
    "\n",
    "image = get_image(DATA_DIR, 0)"
   ]
  },
  {
   "cell_type": "markdown",
   "metadata": {},
   "source": [
    "Once the image is loaded, we should first look for structures in the Sox9 channel."
   ]
  },
  {
   "cell_type": "code",
   "execution_count": 3,
   "metadata": {},
   "outputs": [],
   "source": [
    "sox9_channel = get_channel_from_zarr(image, \"Sox9\")\n",
    "gs_channel = get_channel_from_zarr(image, \"GS\")\n",
    "elastin_channel = get_channel_from_zarr(image, \"elastin\")\n",
    "dapi_channel = get_channel_from_zarr(image, \"DAPI\")"
   ]
  },
  {
   "cell_type": "code",
   "execution_count": 4,
   "metadata": {},
   "outputs": [],
   "source": [
    "segmentations = find_structures(\n",
    "    sox9_channel,\n",
    "    gs_channel,\n",
    "    elastin_channel,\n",
    "    dapi_channel,\n",
    "    chunk_shape=(5 * 1024, 5 * 7024),\n",
    ")"
   ]
  },
  {
   "cell_type": "markdown",
   "metadata": {},
   "source": [
    "We will then look for liver regions in the DAPI channel and use this to remove signal from outside the livers."
   ]
  },
  {
   "cell_type": "code",
   "execution_count": 5,
   "metadata": {},
   "outputs": [
    {
     "data": {
      "text/plain": [
       "<zarr.core.Array '/liver/labels' (23733, 5670) int32>"
      ]
     },
     "execution_count": 5,
     "metadata": {},
     "output_type": "execute_result"
    }
   ],
   "source": [
    "liver = segmentations.create_group(\"liver\")\n",
    "liver.create_dataset(\n",
    "    \"labels\",\n",
    "    data=segment_liver(get_channel_from_zarr(image, \"DAPI\")),\n",
    ")"
   ]
  },
  {
   "cell_type": "code",
   "execution_count": 6,
   "metadata": {},
   "outputs": [],
   "source": [
    "clean_segmentations(segmentations)"
   ]
  },
  {
   "cell_type": "markdown",
   "metadata": {},
   "source": [
    "Finally, we should look for lumenized structures, classify veins and use the elastin positive structures to clean out the Sox9 objects."
   ]
  },
  {
   "cell_type": "code",
   "execution_count": 7,
   "metadata": {},
   "outputs": [],
   "source": [
    "add_veins(segmentations)"
   ]
  },
  {
   "cell_type": "code",
   "execution_count": 8,
   "metadata": {},
   "outputs": [
    {
     "name": "stderr",
     "output_type": "stream",
     "text": [
      "WARNING: DirectWrite: CreateFontFaceFromHDC() failed (Indicates an error in an input file such as a font file.) for QFontDef(Family=\"\", pointsize=12, pixelsize=16, styleHint=5, weight=50, stretch=100, hintingPreference=0) LOGFONT(\"MS Sans Serif\", lfWidth=0, lfHeight=-16) dpi=240\n",
      "WARNING:vispy:DirectWrite: CreateFontFaceFromHDC() failed (Indicates an error in an input file such as a font file.) for QFontDef(Family=\"\", pointsize=12, pixelsize=16, styleHint=5, weight=50, stretch=100, hintingPreference=0) LOGFONT(\"MS Sans Serif\", lfWidth=0, lfHeight=-16) dpi=240\n",
      "WARNING:bfio.backends:Java backend is not available. This could be due to a missing dependency (jpype).\n"
     ]
    }
   ],
   "source": [
    "import napari\n",
    "\n",
    "viewer = napari.Viewer()\n",
    "viewer.add_image(sox9_channel, contrast_limits=(0, 2**16))\n",
    "viewer.add_image(gs_channel, contrast_limits=(0, 2**16))\n",
    "viewer.add_image(elastin_channel, contrast_limits=(0, 2**16))\n",
    "for label_name, label_image in segmentations.items():\n",
    "    viewer.add_labels(label_image[\"labels\"][:], name=label_name)"
   ]
  },
  {
   "cell_type": "code",
   "execution_count": 9,
   "metadata": {},
   "outputs": [],
   "source": [
    "for label_name, label_image in segmentations.items():\n",
    "    add_labels(image, label_image[\"labels\"][:], label_name)"
   ]
  },
  {
   "cell_type": "markdown",
   "metadata": {},
   "source": [
    "With these last step, every labeled image is added to the zarr file."
   ]
  }
 ],
 "metadata": {
  "kernelspec": {
   "display_name": "bile_duct_clf",
   "language": "python",
   "name": "python3"
  },
  "language_info": {
   "codemirror_mode": {
    "name": "ipython",
    "version": 3
   },
   "file_extension": ".py",
   "mimetype": "text/x-python",
   "name": "python",
   "nbconvert_exporter": "python",
   "pygments_lexer": "ipython3",
   "version": "3.11.5"
  }
 },
 "nbformat": 4,
 "nbformat_minor": 2
}

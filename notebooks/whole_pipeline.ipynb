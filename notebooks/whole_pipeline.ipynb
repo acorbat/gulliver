{
 "cells": [
  {
   "cell_type": "markdown",
   "metadata": {},
   "source": [
    "# Whole Pipeline\n",
    "\n",
    "Now that we have separately addressed the different modules of the pipeline, let's put them all together in a single pipe.\n",
    "\n",
    "1. Load the image;\n",
    "2. Find the liver regions;\n",
    "3. Find structures in Sox9 staining (ducts, vessels, Sox9+ cells, not well stained areas);\n",
    "4. Find portal regions.\n",
    "\n",
    "After this, we should look into generating tables with the information describing each region."
   ]
  },
  {
   "cell_type": "code",
   "execution_count": 1,
   "metadata": {},
   "outputs": [
    {
     "name": "stderr",
     "output_type": "stream",
     "text": [
      "c:\\Users\\agucor\\Anaconda3\\envs\\bile_duct_clf\\Lib\\site-packages\\paramiko\\transport.py:219: CryptographyDeprecationWarning: Blowfish has been deprecated\n",
      "  \"class\": algorithms.Blowfish,\n"
     ]
    },
    {
     "name": "stdout",
     "output_type": "stream",
     "text": [
      "NVIDIA GeForce RTX 3060 Laptop GPU\n"
     ]
    }
   ],
   "source": [
    "from pathlib import Path\n",
    "\n",
    "import pyclesperanto_prototype as cle\n",
    "import napari\n",
    "import numpy as np\n",
    "\n",
    "from gulliver.io import get_image, save_img\n",
    "from gulliver.segmenter import (\n",
    "    find_structures,\n",
    "    segment_liver,\n",
    "    clean_segmentations,\n",
    ")\n",
    "\n",
    "cle.select_device(\"RTX\")\n",
    "print(cle.get_device().name)"
   ]
  },
  {
   "cell_type": "code",
   "execution_count": 2,
   "metadata": {},
   "outputs": [],
   "source": [
    "DATA_DIR = Path(\"../data/143 E8.czi\")\n",
    "\n",
    "image = get_image(DATA_DIR, 1)"
   ]
  },
  {
   "cell_type": "markdown",
   "metadata": {},
   "source": [
    "Once the image is loaded, we should first look for liver structures."
   ]
  },
  {
   "cell_type": "code",
   "execution_count": 3,
   "metadata": {},
   "outputs": [],
   "source": [
    "segmentations = find_structures(\n",
    "    image[\"Sox9\"][\"image\"], chunk_shape=(5 * 1024, 5 * 7024)\n",
    ")"
   ]
  },
  {
   "cell_type": "code",
   "execution_count": 4,
   "metadata": {},
   "outputs": [
    {
     "data": {
      "text/plain": [
       "<zarr.core.Array '/liver/labels' (27746, 13050) int32>"
      ]
     },
     "execution_count": 4,
     "metadata": {},
     "output_type": "execute_result"
    }
   ],
   "source": [
    "liver = segmentations.create_group(\"liver\")\n",
    "liver.create_dataset(\n",
    "    \"labels\",\n",
    "    data=segment_liver(image[\"DAPI\"][\"image\"]),\n",
    ")"
   ]
  },
  {
   "cell_type": "code",
   "execution_count": 5,
   "metadata": {},
   "outputs": [],
   "source": [
    "clean_segmentations(segmentations)"
   ]
  },
  {
   "cell_type": "code",
   "execution_count": 6,
   "metadata": {},
   "outputs": [],
   "source": [
    "save_img(\"test.zar\", image, segmentations)"
   ]
  }
 ],
 "metadata": {
  "kernelspec": {
   "display_name": "bile_duct_clf",
   "language": "python",
   "name": "python3"
  },
  "language_info": {
   "codemirror_mode": {
    "name": "ipython",
    "version": 3
   },
   "file_extension": ".py",
   "mimetype": "text/x-python",
   "name": "python",
   "nbconvert_exporter": "python",
   "pygments_lexer": "ipython3",
   "version": "3.11.5"
  }
 },
 "nbformat": 4,
 "nbformat_minor": 2
}
